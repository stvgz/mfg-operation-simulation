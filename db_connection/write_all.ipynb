{
 "cells": [
  {
   "cell_type": "code",
   "execution_count": 1,
   "metadata": {},
   "outputs": [],
   "source": [
    "#  import all from generator.imports\n",
    "import sys\n",
    "sys.path.insert(0, '..')\n",
    "sys.path.insert(0, '../generator/')\n",
    "\n",
    "from generator.imports import *\n",
    "\n",
    "from db import *"
   ]
  },
  {
   "cell_type": "code",
   "execution_count": 2,
   "metadata": {},
   "outputs": [],
   "source": [
    "# !pip install psycopg2"
   ]
  },
  {
   "cell_type": "markdown",
   "metadata": {},
   "source": [
    "# Test reading"
   ]
  },
  {
   "cell_type": "code",
   "execution_count": 3,
   "metadata": {},
   "outputs": [],
   "source": [
    "# create postgress connection\n",
    "\n",
    "from sqlalchemy import create_engine\n",
    "\n",
    "engine = create_engine('postgresql://{}:{}@{}/{}'.format(PG_USER, PG_PASSWORD, PG_HOST, DB_NAME))\n",
    "\n"
   ]
  },
  {
   "cell_type": "code",
   "execution_count": 4,
   "metadata": {},
   "outputs": [
    {
     "data": {
      "text/plain": [
       "'2.0.0'"
      ]
     },
     "execution_count": 4,
     "metadata": {},
     "output_type": "execute_result"
    }
   ],
   "source": [
    "import sqlalchemy\n",
    "from sqlalchemy import text\n",
    "sqlalchemy.__version__"
   ]
  },
  {
   "cell_type": "code",
   "execution_count": 5,
   "metadata": {},
   "outputs": [],
   "source": [
    "# create a table in pg with name test using sqlalchemy\n",
    "with engine.connect() as conn:\n",
    "    \n",
    "    sql = \"\"\"DROP TABLE IF EXISTS mfg.test;\"\"\"\n",
    "    conn.execute(text(sql))\n",
    "    \n",
    "    \n",
    "    # create a new schema with name mfg in pg\n",
    "    sql = \"\"\"CREATE SCHEMA IF NOT EXISTS mfg;\"\"\"\n",
    "    conn.execute(text(sql))\n",
    "    \n",
    "    \n",
    "    sql = \"\"\"CREATE TABLE mfg.test (ID SERIAL PRIMARY KEY, value VARCHAR(255));\"\"\"\n",
    "    conn.execute(text(sql))\n",
    "    \n",
    "    conn.commit()"
   ]
  },
  {
   "cell_type": "code",
   "execution_count": 6,
   "metadata": {},
   "outputs": [],
   "source": [
    "# read data from postgres\n",
    "\n",
    "with engine.connect() as conn:\n",
    "\n",
    "    df = pd.read_sql_table('test', con = conn, schema='mfg')"
   ]
  },
  {
   "cell_type": "code",
   "execution_count": 7,
   "metadata": {},
   "outputs": [],
   "source": [
    "# define a function to refresh data to postgres\n",
    "\n",
    "def write_to_postgres(df, table_name, schema_name, engine):\n",
    "    \n",
    "    with engine.connect() as conn:\n",
    "        \n",
    "        df.to_sql(table_name, con=conn, schema=schema_name, if_exists='replace', index=False)\n",
    "        \n",
    "        conn.commit()"
   ]
  },
  {
   "cell_type": "code",
   "execution_count": 8,
   "metadata": {},
   "outputs": [],
   "source": [
    "# read all excel and csv files from BASE_DIR and write to postgres\n",
    "def write_to_db(dir, file_name = None):\n",
    "    \n",
    "    if file_name is None:\n",
    "        \n",
    "        for file in os.listdir(dir):\n",
    "            if file.endswith('.xlsx') or file.endswith('.csv'):\n",
    "                print('read {} to postgres'.format(file))\n",
    "            \n",
    "                # read excel file\n",
    "                if file.endswith('.xlsx'):\n",
    "                    df = pd.read_excel(os.path.join(dir, file))\n",
    "                \n",
    "                if file.endswith('.csv'):\n",
    "                    df = pd.read_csv(os.path.join(dir, file))\n",
    "                \n",
    "            \n",
    "                write_to_postgres(df, file.split('.')[0], 'mfg', engine)\n",
    "                \n",
    "                print('write {} to postgres'.format(file.split('.')[0]))\n",
    "\n",
    "    elif file_name is not None:\n",
    "        \n",
    "        # read excel file\n",
    "        if file_name.endswith('.xlsx'):\n",
    "            df = pd.read_excel(os.path.join(dir, file_name))\n",
    "        \n",
    "        if file_name.endswith('.csv'):\n",
    "            df = pd.read_csv(os.path.join(dir, file_name))\n",
    "            \n",
    "        write_to_postgres(df, file_name.split('.')[0], 'mfg', engine)\n",
    "        \n",
    "        print('write {} to postgres'.format(file_name.split('.')[0]))\n",
    "\n",
    "\n",
    "def write_to_db_df(df, table_name):\n",
    "    \n",
    "    write_to_postgres(df, table_name, 'mfg', engine)\n",
    "        \n",
    "    print('write {} to postgres'.format(table_name))"
   ]
  },
  {
   "cell_type": "markdown",
   "metadata": {},
   "source": [
    "# Write all to db"
   ]
  },
  {
   "cell_type": "code",
   "execution_count": 11,
   "metadata": {},
   "outputs": [
    {
     "name": "stdout",
     "output_type": "stream",
     "text": [
      "write order_detail_map to postgres\n"
     ]
    }
   ],
   "source": [
    "write_to_db(GE_DIR, 'order_detail_map.csv')"
   ]
  },
  {
   "cell_type": "code",
   "execution_count": 13,
   "metadata": {},
   "outputs": [
    {
     "name": "stdout",
     "output_type": "stream",
     "text": [
      "write parts_order_inventory to postgres\n"
     ]
    }
   ],
   "source": [
    "# write_to_db(GE_DIR, 'parts_order_inventory.csv')"
   ]
  },
  {
   "cell_type": "code",
   "execution_count": 25,
   "metadata": {},
   "outputs": [],
   "source": [
    "# write_to_db(BASE_DIR)\n",
    "# write_to_db(GE_DIR)"
   ]
  },
  {
   "cell_type": "markdown",
   "metadata": {},
   "source": [
    "# write certain file to postgres"
   ]
  },
  {
   "cell_type": "code",
   "execution_count": 26,
   "metadata": {},
   "outputs": [
    {
     "name": "stdout",
     "output_type": "stream",
     "text": [
      "write order_monthly to postgres\n"
     ]
    }
   ],
   "source": [
    "write_to_db(GE_DIR, 'order_monthly.csv')"
   ]
  },
  {
   "cell_type": "code",
   "execution_count": 31,
   "metadata": {},
   "outputs": [
    {
     "name": "stdout",
     "output_type": "stream",
     "text": [
      "write sites to postgres\n"
     ]
    }
   ],
   "source": [
    "write_to_db(BASE_DIR, 'sites.csv')"
   ]
  },
  {
   "cell_type": "code",
   "execution_count": 47,
   "metadata": {},
   "outputs": [
    {
     "name": "stdout",
     "output_type": "stream",
     "text": [
      "write cycle_time to postgres\n"
     ]
    }
   ],
   "source": [
    "# write_to_db(GE_DIR, 'order_detail.csv')\n",
    "write_to_db(GE_DIR, 'cycle_time.csv')"
   ]
  },
  {
   "cell_type": "code",
   "execution_count": null,
   "metadata": {},
   "outputs": [],
   "source": [
    "# write All base adata to postgres"
   ]
  },
  {
   "attachments": {},
   "cell_type": "markdown",
   "metadata": {},
   "source": [
    "# Map data"
   ]
  },
  {
   "cell_type": "code",
   "execution_count": 4,
   "metadata": {},
   "outputs": [],
   "source": [
    "df_map = pd.read_csv('/Users/zhitaogao/Library/CloudStorage/OneDrive-Personal/bbd-projects/mfg_operation_model/src/map_china.csv')"
   ]
  },
  {
   "cell_type": "markdown",
   "metadata": {},
   "source": [
    "# Map"
   ]
  },
  {
   "cell_type": "code",
   "execution_count": 13,
   "metadata": {},
   "outputs": [
    {
     "name": "stdout",
     "output_type": "stream",
     "text": [
      "write map_china to postgres\n"
     ]
    }
   ],
   "source": [
    "write_to_db_df(df_map, 'map_china')"
   ]
  },
  {
   "cell_type": "markdown",
   "metadata": {},
   "source": [
    "# Map D3"
   ]
  },
  {
   "cell_type": "code",
   "execution_count": 20,
   "metadata": {},
   "outputs": [],
   "source": [
    "path = \"/Users/zhitaogao/Library/CloudStorage/OneDrive-Personal/bbd-projects/mfg_operation_model/map_generation_src/map_china_d3.csv\"\n",
    "\n",
    "df_d3 = pd.read_csv(path)"
   ]
  },
  {
   "cell_type": "code",
   "execution_count": 21,
   "metadata": {},
   "outputs": [
    {
     "name": "stdout",
     "output_type": "stream",
     "text": [
      "write map_china_d3 to postgres\n"
     ]
    }
   ],
   "source": [
    "write_to_db_df(df_d3, 'map_china_d3')"
   ]
  },
  {
   "cell_type": "markdown",
   "metadata": {},
   "source": [
    "# 预测性维护 Equipment Status"
   ]
  },
  {
   "cell_type": "code",
   "execution_count": 15,
   "metadata": {},
   "outputs": [
    {
     "data": {
      "text/html": [
       "<div>\n",
       "<style scoped>\n",
       "    .dataframe tbody tr th:only-of-type {\n",
       "        vertical-align: middle;\n",
       "    }\n",
       "\n",
       "    .dataframe tbody tr th {\n",
       "        vertical-align: top;\n",
       "    }\n",
       "\n",
       "    .dataframe thead th {\n",
       "        text-align: right;\n",
       "    }\n",
       "</style>\n",
       "<table border=\"1\" class=\"dataframe\">\n",
       "  <thead>\n",
       "    <tr style=\"text-align: right;\">\n",
       "      <th></th>\n",
       "      <th>noise_data</th>\n",
       "      <th>time</th>\n",
       "    </tr>\n",
       "  </thead>\n",
       "  <tbody>\n",
       "    <tr>\n",
       "      <th>0</th>\n",
       "      <td>8.554032</td>\n",
       "      <td>2023-04-24 21:26:47.247329</td>\n",
       "    </tr>\n",
       "    <tr>\n",
       "      <th>1</th>\n",
       "      <td>11.735937</td>\n",
       "      <td>2023-04-24 21:26:47.257329</td>\n",
       "    </tr>\n",
       "    <tr>\n",
       "      <th>2</th>\n",
       "      <td>10.042567</td>\n",
       "      <td>2023-04-24 21:26:47.267329</td>\n",
       "    </tr>\n",
       "    <tr>\n",
       "      <th>3</th>\n",
       "      <td>9.008329</td>\n",
       "      <td>2023-04-24 21:26:47.277329</td>\n",
       "    </tr>\n",
       "    <tr>\n",
       "      <th>4</th>\n",
       "      <td>10.893289</td>\n",
       "      <td>2023-04-24 21:26:47.287329</td>\n",
       "    </tr>\n",
       "    <tr>\n",
       "      <th>...</th>\n",
       "      <td>...</td>\n",
       "      <td>...</td>\n",
       "    </tr>\n",
       "    <tr>\n",
       "      <th>359996</th>\n",
       "      <td>13.171651</td>\n",
       "      <td>2023-04-24 22:26:47.207329</td>\n",
       "    </tr>\n",
       "    <tr>\n",
       "      <th>359997</th>\n",
       "      <td>15.284330</td>\n",
       "      <td>2023-04-24 22:26:47.217329</td>\n",
       "    </tr>\n",
       "    <tr>\n",
       "      <th>359998</th>\n",
       "      <td>14.293328</td>\n",
       "      <td>2023-04-24 22:26:47.227329</td>\n",
       "    </tr>\n",
       "    <tr>\n",
       "      <th>359999</th>\n",
       "      <td>14.149797</td>\n",
       "      <td>2023-04-24 22:26:47.237329</td>\n",
       "    </tr>\n",
       "    <tr>\n",
       "      <th>360000</th>\n",
       "      <td>15.205633</td>\n",
       "      <td>2023-04-24 22:26:47.247329</td>\n",
       "    </tr>\n",
       "  </tbody>\n",
       "</table>\n",
       "<p>360001 rows × 2 columns</p>\n",
       "</div>"
      ],
      "text/plain": [
       "        noise_data                        time\n",
       "0         8.554032  2023-04-24 21:26:47.247329\n",
       "1        11.735937  2023-04-24 21:26:47.257329\n",
       "2        10.042567  2023-04-24 21:26:47.267329\n",
       "3         9.008329  2023-04-24 21:26:47.277329\n",
       "4        10.893289  2023-04-24 21:26:47.287329\n",
       "...            ...                         ...\n",
       "359996   13.171651  2023-04-24 22:26:47.207329\n",
       "359997   15.284330  2023-04-24 22:26:47.217329\n",
       "359998   14.293328  2023-04-24 22:26:47.227329\n",
       "359999   14.149797  2023-04-24 22:26:47.237329\n",
       "360000   15.205633  2023-04-24 22:26:47.247329\n",
       "\n",
       "[360001 rows x 2 columns]"
      ]
     },
     "execution_count": 15,
     "metadata": {},
     "output_type": "execute_result"
    }
   ],
   "source": [
    "name = \"equipment_vibration.csv\"\n",
    "df = pd.read_csv(os.path.join(GE_DIR, name))\n",
    "df"
   ]
  },
  {
   "cell_type": "code",
   "execution_count": 22,
   "metadata": {},
   "outputs": [
    {
     "name": "stdout",
     "output_type": "stream",
     "text": [
      "write equipment_vibration to postgres\n"
     ]
    }
   ],
   "source": [
    "write_to_db_df(df, name.split('.')[0])"
   ]
  },
  {
   "cell_type": "code",
   "execution_count": 25,
   "metadata": {},
   "outputs": [
    {
     "data": {
      "text/html": [
       "<div>\n",
       "<style scoped>\n",
       "    .dataframe tbody tr th:only-of-type {\n",
       "        vertical-align: middle;\n",
       "    }\n",
       "\n",
       "    .dataframe tbody tr th {\n",
       "        vertical-align: top;\n",
       "    }\n",
       "\n",
       "    .dataframe thead th {\n",
       "        text-align: right;\n",
       "    }\n",
       "</style>\n",
       "<table border=\"1\" class=\"dataframe\">\n",
       "  <thead>\n",
       "    <tr style=\"text-align: right;\">\n",
       "      <th></th>\n",
       "      <th>level_0</th>\n",
       "      <th>index</th>\n",
       "      <th>rolling_std</th>\n",
       "      <th>noise_data</th>\n",
       "      <th>time</th>\n",
       "    </tr>\n",
       "  </thead>\n",
       "  <tbody>\n",
       "    <tr>\n",
       "      <th>0</th>\n",
       "      <td>0</td>\n",
       "      <td>0</td>\n",
       "      <td>NaN</td>\n",
       "      <td>8.554032</td>\n",
       "      <td>2023-04-24 21:26:47.247329</td>\n",
       "    </tr>\n",
       "    <tr>\n",
       "      <th>1</th>\n",
       "      <td>1</td>\n",
       "      <td>1000</td>\n",
       "      <td>0.968799</td>\n",
       "      <td>9.215418</td>\n",
       "      <td>2023-04-24 21:26:57.247329</td>\n",
       "    </tr>\n",
       "    <tr>\n",
       "      <th>2</th>\n",
       "      <td>2</td>\n",
       "      <td>2000</td>\n",
       "      <td>0.989600</td>\n",
       "      <td>9.113201</td>\n",
       "      <td>2023-04-24 21:27:07.247329</td>\n",
       "    </tr>\n",
       "    <tr>\n",
       "      <th>3</th>\n",
       "      <td>3</td>\n",
       "      <td>3000</td>\n",
       "      <td>0.986585</td>\n",
       "      <td>8.932201</td>\n",
       "      <td>2023-04-24 21:27:17.247329</td>\n",
       "    </tr>\n",
       "    <tr>\n",
       "      <th>4</th>\n",
       "      <td>4</td>\n",
       "      <td>4000</td>\n",
       "      <td>1.027769</td>\n",
       "      <td>9.666576</td>\n",
       "      <td>2023-04-24 21:27:27.247329</td>\n",
       "    </tr>\n",
       "    <tr>\n",
       "      <th>...</th>\n",
       "      <td>...</td>\n",
       "      <td>...</td>\n",
       "      <td>...</td>\n",
       "      <td>...</td>\n",
       "      <td>...</td>\n",
       "    </tr>\n",
       "    <tr>\n",
       "      <th>356</th>\n",
       "      <td>356</td>\n",
       "      <td>356000</td>\n",
       "      <td>1.410122</td>\n",
       "      <td>15.487204</td>\n",
       "      <td>2023-04-24 22:26:07.247329</td>\n",
       "    </tr>\n",
       "    <tr>\n",
       "      <th>357</th>\n",
       "      <td>357</td>\n",
       "      <td>357000</td>\n",
       "      <td>1.470979</td>\n",
       "      <td>15.099061</td>\n",
       "      <td>2023-04-24 22:26:17.247329</td>\n",
       "    </tr>\n",
       "    <tr>\n",
       "      <th>358</th>\n",
       "      <td>358</td>\n",
       "      <td>358000</td>\n",
       "      <td>1.410370</td>\n",
       "      <td>14.643481</td>\n",
       "      <td>2023-04-24 22:26:27.247329</td>\n",
       "    </tr>\n",
       "    <tr>\n",
       "      <th>359</th>\n",
       "      <td>359</td>\n",
       "      <td>359000</td>\n",
       "      <td>1.412678</td>\n",
       "      <td>15.949526</td>\n",
       "      <td>2023-04-24 22:26:37.247329</td>\n",
       "    </tr>\n",
       "    <tr>\n",
       "      <th>360</th>\n",
       "      <td>360</td>\n",
       "      <td>360000</td>\n",
       "      <td>1.404658</td>\n",
       "      <td>15.205633</td>\n",
       "      <td>2023-04-24 22:26:47.247329</td>\n",
       "    </tr>\n",
       "  </tbody>\n",
       "</table>\n",
       "<p>361 rows × 5 columns</p>\n",
       "</div>"
      ],
      "text/plain": [
       "     level_0   index  rolling_std  noise_data                        time\n",
       "0          0       0          NaN    8.554032  2023-04-24 21:26:47.247329\n",
       "1          1    1000     0.968799    9.215418  2023-04-24 21:26:57.247329\n",
       "2          2    2000     0.989600    9.113201  2023-04-24 21:27:07.247329\n",
       "3          3    3000     0.986585    8.932201  2023-04-24 21:27:17.247329\n",
       "4          4    4000     1.027769    9.666576  2023-04-24 21:27:27.247329\n",
       "..       ...     ...          ...         ...                         ...\n",
       "356      356  356000     1.410122   15.487204  2023-04-24 22:26:07.247329\n",
       "357      357  357000     1.470979   15.099061  2023-04-24 22:26:17.247329\n",
       "358      358  358000     1.410370   14.643481  2023-04-24 22:26:27.247329\n",
       "359      359  359000     1.412678   15.949526  2023-04-24 22:26:37.247329\n",
       "360      360  360000     1.404658   15.205633  2023-04-24 22:26:47.247329\n",
       "\n",
       "[361 rows x 5 columns]"
      ]
     },
     "execution_count": 25,
     "metadata": {},
     "output_type": "execute_result"
    }
   ],
   "source": [
    "name = \"equipment_vibration_rolling_std.csv\"\n",
    "df = pd.read_csv(os.path.join(GE_DIR, name))\n",
    "df"
   ]
  },
  {
   "cell_type": "code",
   "execution_count": 27,
   "metadata": {},
   "outputs": [
    {
     "name": "stdout",
     "output_type": "stream",
     "text": [
      "write equipment_vibration_rolling_std to postgres\n"
     ]
    }
   ],
   "source": [
    "write_to_db_df(df, name.split('.')[0])"
   ]
  },
  {
   "cell_type": "code",
   "execution_count": null,
   "metadata": {},
   "outputs": [],
   "source": []
  }
 ],
 "metadata": {
  "kernelspec": {
   "display_name": "mfg",
   "language": "python",
   "name": "python3"
  },
  "language_info": {
   "codemirror_mode": {
    "name": "ipython",
    "version": 3
   },
   "file_extension": ".py",
   "mimetype": "text/x-python",
   "name": "python",
   "nbconvert_exporter": "python",
   "pygments_lexer": "ipython3",
   "version": "3.11.0"
  },
  "orig_nbformat": 4,
  "vscode": {
   "interpreter": {
    "hash": "11ece21f9d148e8622ffd10de10c91d1c2aa93fd07d9db7502e7743a8919cb02"
   }
  }
 },
 "nbformat": 4,
 "nbformat_minor": 2
}
