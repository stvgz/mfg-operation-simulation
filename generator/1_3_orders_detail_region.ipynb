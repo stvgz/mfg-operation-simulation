{
 "cells": [
  {
   "attachments": {},
   "cell_type": "markdown",
   "metadata": {},
   "source": [
    "# 把 order 进行细节的拆分 拆到每一个order的细节 具备\n",
    "\n",
    "\n",
    "\n",
    "\n",
    "\n",
    "1. order_id\n",
    "1. order_date\n",
    "1. order_datetime, 具体的日期，用于分析行为\n",
    "2. order_user_id，留在后边用\n",
    "3. order_provice\n",
    "4. order_city\n",
    "    这两个部分先按照省份来拆分\n",
    "5. \n"
   ]
  },
  {
   "cell_type": "code",
   "execution_count": 104,
   "metadata": {},
   "outputs": [],
   "source": [
    "# 2023/02/07 只生成了部分 12月份的数据"
   ]
  },
  {
   "cell_type": "code",
   "execution_count": 2,
   "metadata": {},
   "outputs": [],
   "source": [
    "from imports import *"
   ]
  },
  {
   "cell_type": "code",
   "execution_count": 3,
   "metadata": {},
   "outputs": [],
   "source": [
    "# read order monthly data "
   ]
  },
  {
   "cell_type": "code",
   "execution_count": 4,
   "metadata": {},
   "outputs": [],
   "source": [
    "df = pd.read_csv(os.path.join(GE_DIR,'order_monthly.csv'))"
   ]
  },
  {
   "cell_type": "code",
   "execution_count": 5,
   "metadata": {},
   "outputs": [
    {
     "data": {
      "text/html": [
       "<div>\n",
       "<style scoped>\n",
       "    .dataframe tbody tr th:only-of-type {\n",
       "        vertical-align: middle;\n",
       "    }\n",
       "\n",
       "    .dataframe tbody tr th {\n",
       "        vertical-align: top;\n",
       "    }\n",
       "\n",
       "    .dataframe thead th {\n",
       "        text-align: right;\n",
       "    }\n",
       "</style>\n",
       "<table border=\"1\" class=\"dataframe\">\n",
       "  <thead>\n",
       "    <tr style=\"text-align: right;\">\n",
       "      <th></th>\n",
       "      <th>product_id</th>\n",
       "      <th>month</th>\n",
       "      <th>count_raw</th>\n",
       "      <th>year</th>\n",
       "      <th>product_name</th>\n",
       "    </tr>\n",
       "  </thead>\n",
       "  <tbody>\n",
       "    <tr>\n",
       "      <th>0</th>\n",
       "      <td>1</td>\n",
       "      <td>2018-01-01</td>\n",
       "      <td>1057</td>\n",
       "      <td>2018</td>\n",
       "      <td>基础款</td>\n",
       "    </tr>\n",
       "    <tr>\n",
       "      <th>1</th>\n",
       "      <td>1</td>\n",
       "      <td>2018-02-01</td>\n",
       "      <td>997</td>\n",
       "      <td>2018</td>\n",
       "      <td>基础款</td>\n",
       "    </tr>\n",
       "    <tr>\n",
       "      <th>2</th>\n",
       "      <td>1</td>\n",
       "      <td>2018-03-01</td>\n",
       "      <td>1219</td>\n",
       "      <td>2018</td>\n",
       "      <td>基础款</td>\n",
       "    </tr>\n",
       "    <tr>\n",
       "      <th>3</th>\n",
       "      <td>1</td>\n",
       "      <td>2018-04-01</td>\n",
       "      <td>1029</td>\n",
       "      <td>2018</td>\n",
       "      <td>基础款</td>\n",
       "    </tr>\n",
       "    <tr>\n",
       "      <th>4</th>\n",
       "      <td>1</td>\n",
       "      <td>2018-05-01</td>\n",
       "      <td>1783</td>\n",
       "      <td>2018</td>\n",
       "      <td>基础款</td>\n",
       "    </tr>\n",
       "    <tr>\n",
       "      <th>...</th>\n",
       "      <td>...</td>\n",
       "      <td>...</td>\n",
       "      <td>...</td>\n",
       "      <td>...</td>\n",
       "      <td>...</td>\n",
       "    </tr>\n",
       "    <tr>\n",
       "      <th>139</th>\n",
       "      <td>4</td>\n",
       "      <td>2022-08-01</td>\n",
       "      <td>3418</td>\n",
       "      <td>2022</td>\n",
       "      <td>豪华款</td>\n",
       "    </tr>\n",
       "    <tr>\n",
       "      <th>140</th>\n",
       "      <td>4</td>\n",
       "      <td>2022-09-01</td>\n",
       "      <td>3460</td>\n",
       "      <td>2022</td>\n",
       "      <td>豪华款</td>\n",
       "    </tr>\n",
       "    <tr>\n",
       "      <th>141</th>\n",
       "      <td>4</td>\n",
       "      <td>2022-10-01</td>\n",
       "      <td>4003</td>\n",
       "      <td>2022</td>\n",
       "      <td>豪华款</td>\n",
       "    </tr>\n",
       "    <tr>\n",
       "      <th>142</th>\n",
       "      <td>4</td>\n",
       "      <td>2022-11-01</td>\n",
       "      <td>2870</td>\n",
       "      <td>2022</td>\n",
       "      <td>豪华款</td>\n",
       "    </tr>\n",
       "    <tr>\n",
       "      <th>143</th>\n",
       "      <td>4</td>\n",
       "      <td>2022-12-01</td>\n",
       "      <td>3736</td>\n",
       "      <td>2022</td>\n",
       "      <td>豪华款</td>\n",
       "    </tr>\n",
       "  </tbody>\n",
       "</table>\n",
       "<p>144 rows × 5 columns</p>\n",
       "</div>"
      ],
      "text/plain": [
       "     product_id       month  count_raw  year product_name\n",
       "0             1  2018-01-01       1057  2018          基础款\n",
       "1             1  2018-02-01        997  2018          基础款\n",
       "2             1  2018-03-01       1219  2018          基础款\n",
       "3             1  2018-04-01       1029  2018          基础款\n",
       "4             1  2018-05-01       1783  2018          基础款\n",
       "..          ...         ...        ...   ...          ...\n",
       "139           4  2022-08-01       3418  2022          豪华款\n",
       "140           4  2022-09-01       3460  2022          豪华款\n",
       "141           4  2022-10-01       4003  2022          豪华款\n",
       "142           4  2022-11-01       2870  2022          豪华款\n",
       "143           4  2022-12-01       3736  2022          豪华款\n",
       "\n",
       "[144 rows x 5 columns]"
      ]
     },
     "execution_count": 5,
     "metadata": {},
     "output_type": "execute_result"
    }
   ],
   "source": [
    "df"
   ]
  },
  {
   "cell_type": "code",
   "execution_count": 6,
   "metadata": {},
   "outputs": [],
   "source": [
    "week_ratio = [0.8,1,2,2.5,3.8,4,3.5]"
   ]
  },
  {
   "cell_type": "code",
   "execution_count": 7,
   "metadata": {},
   "outputs": [],
   "source": [
    "# import relativedelta\n",
    "from dateutil.relativedelta import relativedelta"
   ]
  },
  {
   "cell_type": "code",
   "execution_count": 21,
   "metadata": {},
   "outputs": [
    {
     "data": {
      "application/vnd.plotly.v1+json": {
       "config": {
        "plotlyServerURL": "https://plot.ly"
       },
       "data": [
        {
         "hovertemplate": "variable=0<br>index=%{x}<br>value=%{y}<extra></extra>",
         "legendgroup": "0",
         "marker": {
          "color": "#636efa",
          "symbol": "circle"
         },
         "mode": "markers",
         "name": "0",
         "orientation": "v",
         "showlegend": true,
         "type": "scatter",
         "x": [
          0,
          1,
          2,
          3,
          4,
          5,
          6,
          7,
          8,
          9,
          10,
          11,
          12,
          13,
          14,
          15,
          16,
          17,
          18,
          19,
          20,
          21,
          22,
          23
         ],
         "xaxis": "x",
         "y": [
          1,
          1,
          1,
          1,
          1,
          1,
          2,
          3,
          4,
          8,
          7,
          6,
          3,
          6,
          5,
          4,
          3,
          3,
          2,
          4,
          7,
          8,
          12,
          7
         ],
         "yaxis": "y"
        }
       ],
       "layout": {
        "legend": {
         "title": {
          "text": "variable"
         },
         "tracegroupgap": 0
        },
        "margin": {
         "t": 60
        },
        "template": {
         "data": {
          "bar": [
           {
            "error_x": {
             "color": "#2a3f5f"
            },
            "error_y": {
             "color": "#2a3f5f"
            },
            "marker": {
             "line": {
              "color": "#E5ECF6",
              "width": 0.5
             },
             "pattern": {
              "fillmode": "overlay",
              "size": 10,
              "solidity": 0.2
             }
            },
            "type": "bar"
           }
          ],
          "barpolar": [
           {
            "marker": {
             "line": {
              "color": "#E5ECF6",
              "width": 0.5
             },
             "pattern": {
              "fillmode": "overlay",
              "size": 10,
              "solidity": 0.2
             }
            },
            "type": "barpolar"
           }
          ],
          "carpet": [
           {
            "aaxis": {
             "endlinecolor": "#2a3f5f",
             "gridcolor": "white",
             "linecolor": "white",
             "minorgridcolor": "white",
             "startlinecolor": "#2a3f5f"
            },
            "baxis": {
             "endlinecolor": "#2a3f5f",
             "gridcolor": "white",
             "linecolor": "white",
             "minorgridcolor": "white",
             "startlinecolor": "#2a3f5f"
            },
            "type": "carpet"
           }
          ],
          "choropleth": [
           {
            "colorbar": {
             "outlinewidth": 0,
             "ticks": ""
            },
            "type": "choropleth"
           }
          ],
          "contour": [
           {
            "colorbar": {
             "outlinewidth": 0,
             "ticks": ""
            },
            "colorscale": [
             [
              0,
              "#0d0887"
             ],
             [
              0.1111111111111111,
              "#46039f"
             ],
             [
              0.2222222222222222,
              "#7201a8"
             ],
             [
              0.3333333333333333,
              "#9c179e"
             ],
             [
              0.4444444444444444,
              "#bd3786"
             ],
             [
              0.5555555555555556,
              "#d8576b"
             ],
             [
              0.6666666666666666,
              "#ed7953"
             ],
             [
              0.7777777777777778,
              "#fb9f3a"
             ],
             [
              0.8888888888888888,
              "#fdca26"
             ],
             [
              1,
              "#f0f921"
             ]
            ],
            "type": "contour"
           }
          ],
          "contourcarpet": [
           {
            "colorbar": {
             "outlinewidth": 0,
             "ticks": ""
            },
            "type": "contourcarpet"
           }
          ],
          "heatmap": [
           {
            "colorbar": {
             "outlinewidth": 0,
             "ticks": ""
            },
            "colorscale": [
             [
              0,
              "#0d0887"
             ],
             [
              0.1111111111111111,
              "#46039f"
             ],
             [
              0.2222222222222222,
              "#7201a8"
             ],
             [
              0.3333333333333333,
              "#9c179e"
             ],
             [
              0.4444444444444444,
              "#bd3786"
             ],
             [
              0.5555555555555556,
              "#d8576b"
             ],
             [
              0.6666666666666666,
              "#ed7953"
             ],
             [
              0.7777777777777778,
              "#fb9f3a"
             ],
             [
              0.8888888888888888,
              "#fdca26"
             ],
             [
              1,
              "#f0f921"
             ]
            ],
            "type": "heatmap"
           }
          ],
          "heatmapgl": [
           {
            "colorbar": {
             "outlinewidth": 0,
             "ticks": ""
            },
            "colorscale": [
             [
              0,
              "#0d0887"
             ],
             [
              0.1111111111111111,
              "#46039f"
             ],
             [
              0.2222222222222222,
              "#7201a8"
             ],
             [
              0.3333333333333333,
              "#9c179e"
             ],
             [
              0.4444444444444444,
              "#bd3786"
             ],
             [
              0.5555555555555556,
              "#d8576b"
             ],
             [
              0.6666666666666666,
              "#ed7953"
             ],
             [
              0.7777777777777778,
              "#fb9f3a"
             ],
             [
              0.8888888888888888,
              "#fdca26"
             ],
             [
              1,
              "#f0f921"
             ]
            ],
            "type": "heatmapgl"
           }
          ],
          "histogram": [
           {
            "marker": {
             "pattern": {
              "fillmode": "overlay",
              "size": 10,
              "solidity": 0.2
             }
            },
            "type": "histogram"
           }
          ],
          "histogram2d": [
           {
            "colorbar": {
             "outlinewidth": 0,
             "ticks": ""
            },
            "colorscale": [
             [
              0,
              "#0d0887"
             ],
             [
              0.1111111111111111,
              "#46039f"
             ],
             [
              0.2222222222222222,
              "#7201a8"
             ],
             [
              0.3333333333333333,
              "#9c179e"
             ],
             [
              0.4444444444444444,
              "#bd3786"
             ],
             [
              0.5555555555555556,
              "#d8576b"
             ],
             [
              0.6666666666666666,
              "#ed7953"
             ],
             [
              0.7777777777777778,
              "#fb9f3a"
             ],
             [
              0.8888888888888888,
              "#fdca26"
             ],
             [
              1,
              "#f0f921"
             ]
            ],
            "type": "histogram2d"
           }
          ],
          "histogram2dcontour": [
           {
            "colorbar": {
             "outlinewidth": 0,
             "ticks": ""
            },
            "colorscale": [
             [
              0,
              "#0d0887"
             ],
             [
              0.1111111111111111,
              "#46039f"
             ],
             [
              0.2222222222222222,
              "#7201a8"
             ],
             [
              0.3333333333333333,
              "#9c179e"
             ],
             [
              0.4444444444444444,
              "#bd3786"
             ],
             [
              0.5555555555555556,
              "#d8576b"
             ],
             [
              0.6666666666666666,
              "#ed7953"
             ],
             [
              0.7777777777777778,
              "#fb9f3a"
             ],
             [
              0.8888888888888888,
              "#fdca26"
             ],
             [
              1,
              "#f0f921"
             ]
            ],
            "type": "histogram2dcontour"
           }
          ],
          "mesh3d": [
           {
            "colorbar": {
             "outlinewidth": 0,
             "ticks": ""
            },
            "type": "mesh3d"
           }
          ],
          "parcoords": [
           {
            "line": {
             "colorbar": {
              "outlinewidth": 0,
              "ticks": ""
             }
            },
            "type": "parcoords"
           }
          ],
          "pie": [
           {
            "automargin": true,
            "type": "pie"
           }
          ],
          "scatter": [
           {
            "fillpattern": {
             "fillmode": "overlay",
             "size": 10,
             "solidity": 0.2
            },
            "type": "scatter"
           }
          ],
          "scatter3d": [
           {
            "line": {
             "colorbar": {
              "outlinewidth": 0,
              "ticks": ""
             }
            },
            "marker": {
             "colorbar": {
              "outlinewidth": 0,
              "ticks": ""
             }
            },
            "type": "scatter3d"
           }
          ],
          "scattercarpet": [
           {
            "marker": {
             "colorbar": {
              "outlinewidth": 0,
              "ticks": ""
             }
            },
            "type": "scattercarpet"
           }
          ],
          "scattergeo": [
           {
            "marker": {
             "colorbar": {
              "outlinewidth": 0,
              "ticks": ""
             }
            },
            "type": "scattergeo"
           }
          ],
          "scattergl": [
           {
            "marker": {
             "colorbar": {
              "outlinewidth": 0,
              "ticks": ""
             }
            },
            "type": "scattergl"
           }
          ],
          "scattermapbox": [
           {
            "marker": {
             "colorbar": {
              "outlinewidth": 0,
              "ticks": ""
             }
            },
            "type": "scattermapbox"
           }
          ],
          "scatterpolar": [
           {
            "marker": {
             "colorbar": {
              "outlinewidth": 0,
              "ticks": ""
             }
            },
            "type": "scatterpolar"
           }
          ],
          "scatterpolargl": [
           {
            "marker": {
             "colorbar": {
              "outlinewidth": 0,
              "ticks": ""
             }
            },
            "type": "scatterpolargl"
           }
          ],
          "scatterternary": [
           {
            "marker": {
             "colorbar": {
              "outlinewidth": 0,
              "ticks": ""
             }
            },
            "type": "scatterternary"
           }
          ],
          "surface": [
           {
            "colorbar": {
             "outlinewidth": 0,
             "ticks": ""
            },
            "colorscale": [
             [
              0,
              "#0d0887"
             ],
             [
              0.1111111111111111,
              "#46039f"
             ],
             [
              0.2222222222222222,
              "#7201a8"
             ],
             [
              0.3333333333333333,
              "#9c179e"
             ],
             [
              0.4444444444444444,
              "#bd3786"
             ],
             [
              0.5555555555555556,
              "#d8576b"
             ],
             [
              0.6666666666666666,
              "#ed7953"
             ],
             [
              0.7777777777777778,
              "#fb9f3a"
             ],
             [
              0.8888888888888888,
              "#fdca26"
             ],
             [
              1,
              "#f0f921"
             ]
            ],
            "type": "surface"
           }
          ],
          "table": [
           {
            "cells": {
             "fill": {
              "color": "#EBF0F8"
             },
             "line": {
              "color": "white"
             }
            },
            "header": {
             "fill": {
              "color": "#C8D4E3"
             },
             "line": {
              "color": "white"
             }
            },
            "type": "table"
           }
          ]
         },
         "layout": {
          "annotationdefaults": {
           "arrowcolor": "#2a3f5f",
           "arrowhead": 0,
           "arrowwidth": 1
          },
          "autotypenumbers": "strict",
          "coloraxis": {
           "colorbar": {
            "outlinewidth": 0,
            "ticks": ""
           }
          },
          "colorscale": {
           "diverging": [
            [
             0,
             "#8e0152"
            ],
            [
             0.1,
             "#c51b7d"
            ],
            [
             0.2,
             "#de77ae"
            ],
            [
             0.3,
             "#f1b6da"
            ],
            [
             0.4,
             "#fde0ef"
            ],
            [
             0.5,
             "#f7f7f7"
            ],
            [
             0.6,
             "#e6f5d0"
            ],
            [
             0.7,
             "#b8e186"
            ],
            [
             0.8,
             "#7fbc41"
            ],
            [
             0.9,
             "#4d9221"
            ],
            [
             1,
             "#276419"
            ]
           ],
           "sequential": [
            [
             0,
             "#0d0887"
            ],
            [
             0.1111111111111111,
             "#46039f"
            ],
            [
             0.2222222222222222,
             "#7201a8"
            ],
            [
             0.3333333333333333,
             "#9c179e"
            ],
            [
             0.4444444444444444,
             "#bd3786"
            ],
            [
             0.5555555555555556,
             "#d8576b"
            ],
            [
             0.6666666666666666,
             "#ed7953"
            ],
            [
             0.7777777777777778,
             "#fb9f3a"
            ],
            [
             0.8888888888888888,
             "#fdca26"
            ],
            [
             1,
             "#f0f921"
            ]
           ],
           "sequentialminus": [
            [
             0,
             "#0d0887"
            ],
            [
             0.1111111111111111,
             "#46039f"
            ],
            [
             0.2222222222222222,
             "#7201a8"
            ],
            [
             0.3333333333333333,
             "#9c179e"
            ],
            [
             0.4444444444444444,
             "#bd3786"
            ],
            [
             0.5555555555555556,
             "#d8576b"
            ],
            [
             0.6666666666666666,
             "#ed7953"
            ],
            [
             0.7777777777777778,
             "#fb9f3a"
            ],
            [
             0.8888888888888888,
             "#fdca26"
            ],
            [
             1,
             "#f0f921"
            ]
           ]
          },
          "colorway": [
           "#636efa",
           "#EF553B",
           "#00cc96",
           "#ab63fa",
           "#FFA15A",
           "#19d3f3",
           "#FF6692",
           "#B6E880",
           "#FF97FF",
           "#FECB52"
          ],
          "font": {
           "color": "#2a3f5f"
          },
          "geo": {
           "bgcolor": "white",
           "lakecolor": "white",
           "landcolor": "#E5ECF6",
           "showlakes": true,
           "showland": true,
           "subunitcolor": "white"
          },
          "hoverlabel": {
           "align": "left"
          },
          "hovermode": "closest",
          "mapbox": {
           "style": "light"
          },
          "paper_bgcolor": "white",
          "plot_bgcolor": "#E5ECF6",
          "polar": {
           "angularaxis": {
            "gridcolor": "white",
            "linecolor": "white",
            "ticks": ""
           },
           "bgcolor": "#E5ECF6",
           "radialaxis": {
            "gridcolor": "white",
            "linecolor": "white",
            "ticks": ""
           }
          },
          "scene": {
           "xaxis": {
            "backgroundcolor": "#E5ECF6",
            "gridcolor": "white",
            "gridwidth": 2,
            "linecolor": "white",
            "showbackground": true,
            "ticks": "",
            "zerolinecolor": "white"
           },
           "yaxis": {
            "backgroundcolor": "#E5ECF6",
            "gridcolor": "white",
            "gridwidth": 2,
            "linecolor": "white",
            "showbackground": true,
            "ticks": "",
            "zerolinecolor": "white"
           },
           "zaxis": {
            "backgroundcolor": "#E5ECF6",
            "gridcolor": "white",
            "gridwidth": 2,
            "linecolor": "white",
            "showbackground": true,
            "ticks": "",
            "zerolinecolor": "white"
           }
          },
          "shapedefaults": {
           "line": {
            "color": "#2a3f5f"
           }
          },
          "ternary": {
           "aaxis": {
            "gridcolor": "white",
            "linecolor": "white",
            "ticks": ""
           },
           "baxis": {
            "gridcolor": "white",
            "linecolor": "white",
            "ticks": ""
           },
           "bgcolor": "#E5ECF6",
           "caxis": {
            "gridcolor": "white",
            "linecolor": "white",
            "ticks": ""
           }
          },
          "title": {
           "x": 0.05
          },
          "xaxis": {
           "automargin": true,
           "gridcolor": "white",
           "linecolor": "white",
           "ticks": "",
           "title": {
            "standoff": 15
           },
           "zerolinecolor": "white",
           "zerolinewidth": 2
          },
          "yaxis": {
           "automargin": true,
           "gridcolor": "white",
           "linecolor": "white",
           "ticks": "",
           "title": {
            "standoff": 15
           },
           "zerolinecolor": "white",
           "zerolinewidth": 2
          }
         }
        },
        "xaxis": {
         "anchor": "y",
         "domain": [
          0,
          1
         ],
         "title": {
          "text": "index"
         }
        },
        "yaxis": {
         "anchor": "x",
         "domain": [
          0,
          1
         ],
         "title": {
          "text": "value"
         }
        }
       }
      }
     },
     "metadata": {},
     "output_type": "display_data"
    }
   ],
   "source": [
    "# Generate random hour and minute according to the ratio of 24 hours\n",
    "\n",
    "random_24_hour_rato = [1,1,1,1,1,1,2,3,4,8,7,6,3,6,5,4,3,3,2,4,7,8,12,7]\n",
    "px.scatter(random_24_hour_rato)"
   ]
  },
  {
   "cell_type": "code",
   "execution_count": 24,
   "metadata": {},
   "outputs": [],
   "source": [
    "# 按照平均，周末更多的方式分配订单\n",
    "\n",
    "# iterate over df\n",
    "for idx, row in df.iterrows():\n",
    "    \n",
    "    month_str = row['month']\n",
    "    count_raw = int(row['count_raw'])\n",
    "    \n",
    "    first_day = datetime.strptime(month_str, '%Y-%m-%d')\n",
    "    this_month = first_day.month\n",
    "    last_day = first_day + relativedelta(months=1, days=-1)\n",
    "    \n",
    "    df_this_month = pd.DataFrame()\n",
    "    dates_of_this_month = pd.date_range(first_day, last_day)\n",
    "    df_this_month['date'] = dates_of_this_month\n",
    "\n",
    "    week_days = dates_of_this_month.dayofweek + 1\n",
    "    df_this_month['week_day'] = week_days\n",
    "    \n",
    "    # Generate order count for each week day according to week_ratio\n",
    "    order_count = [count_raw * ratio / sum(week_ratio) for ratio in week_ratio]\n",
    "    \n",
    "    # Generate dict including day of week and order count\n",
    "    _dict = dict(zip(week_days, order_count))\n",
    "    \n",
    "    # number of week days of each week_day\n",
    "    df_this_month['num_week_day'] = df_this_month['week_day'].map(df_this_month['week_day'].value_counts())\n",
    "    \n",
    "    df_this_month['count_total'] = df_this_month['week_day'].map(_dict)\n",
    "    \n",
    "    df_this_month['count_orders'] = df_this_month['count_total'] / df_this_month['num_week_day']\n",
    "    \n",
    "    # Generate randomness for count_orders follow normal distribution\n",
    "    df_this_month['count_orders_this_day'] = df_this_month['count_orders'].apply(lambda x: int(np.random.normal(x, x/5)))\n",
    "    \n"
   ]
  },
  {
   "cell_type": "code",
   "execution_count": 25,
   "metadata": {},
   "outputs": [
    {
     "data": {
      "text/html": [
       "<div>\n",
       "<style scoped>\n",
       "    .dataframe tbody tr th:only-of-type {\n",
       "        vertical-align: middle;\n",
       "    }\n",
       "\n",
       "    .dataframe tbody tr th {\n",
       "        vertical-align: top;\n",
       "    }\n",
       "\n",
       "    .dataframe thead th {\n",
       "        text-align: right;\n",
       "    }\n",
       "</style>\n",
       "<table border=\"1\" class=\"dataframe\">\n",
       "  <thead>\n",
       "    <tr style=\"text-align: right;\">\n",
       "      <th></th>\n",
       "      <th>date</th>\n",
       "      <th>week_day</th>\n",
       "      <th>num_week_day</th>\n",
       "      <th>count_total</th>\n",
       "      <th>count_orders</th>\n",
       "      <th>count_orders_this_day</th>\n",
       "    </tr>\n",
       "  </thead>\n",
       "  <tbody>\n",
       "    <tr>\n",
       "      <th>0</th>\n",
       "      <td>2022-12-01</td>\n",
       "      <td>4</td>\n",
       "      <td>5</td>\n",
       "      <td>169.818182</td>\n",
       "      <td>33.963636</td>\n",
       "      <td>46</td>\n",
       "    </tr>\n",
       "    <tr>\n",
       "      <th>1</th>\n",
       "      <td>2022-12-02</td>\n",
       "      <td>5</td>\n",
       "      <td>5</td>\n",
       "      <td>212.272727</td>\n",
       "      <td>42.454545</td>\n",
       "      <td>41</td>\n",
       "    </tr>\n",
       "    <tr>\n",
       "      <th>2</th>\n",
       "      <td>2022-12-03</td>\n",
       "      <td>6</td>\n",
       "      <td>5</td>\n",
       "      <td>424.545455</td>\n",
       "      <td>84.909091</td>\n",
       "      <td>81</td>\n",
       "    </tr>\n",
       "    <tr>\n",
       "      <th>3</th>\n",
       "      <td>2022-12-04</td>\n",
       "      <td>7</td>\n",
       "      <td>4</td>\n",
       "      <td>530.681818</td>\n",
       "      <td>132.670455</td>\n",
       "      <td>118</td>\n",
       "    </tr>\n",
       "    <tr>\n",
       "      <th>4</th>\n",
       "      <td>2022-12-05</td>\n",
       "      <td>1</td>\n",
       "      <td>4</td>\n",
       "      <td>806.636364</td>\n",
       "      <td>201.659091</td>\n",
       "      <td>176</td>\n",
       "    </tr>\n",
       "    <tr>\n",
       "      <th>5</th>\n",
       "      <td>2022-12-06</td>\n",
       "      <td>2</td>\n",
       "      <td>4</td>\n",
       "      <td>849.090909</td>\n",
       "      <td>212.272727</td>\n",
       "      <td>113</td>\n",
       "    </tr>\n",
       "    <tr>\n",
       "      <th>6</th>\n",
       "      <td>2022-12-07</td>\n",
       "      <td>3</td>\n",
       "      <td>4</td>\n",
       "      <td>742.954545</td>\n",
       "      <td>185.738636</td>\n",
       "      <td>197</td>\n",
       "    </tr>\n",
       "    <tr>\n",
       "      <th>7</th>\n",
       "      <td>2022-12-08</td>\n",
       "      <td>4</td>\n",
       "      <td>5</td>\n",
       "      <td>169.818182</td>\n",
       "      <td>33.963636</td>\n",
       "      <td>28</td>\n",
       "    </tr>\n",
       "    <tr>\n",
       "      <th>8</th>\n",
       "      <td>2022-12-09</td>\n",
       "      <td>5</td>\n",
       "      <td>5</td>\n",
       "      <td>212.272727</td>\n",
       "      <td>42.454545</td>\n",
       "      <td>35</td>\n",
       "    </tr>\n",
       "    <tr>\n",
       "      <th>9</th>\n",
       "      <td>2022-12-10</td>\n",
       "      <td>6</td>\n",
       "      <td>5</td>\n",
       "      <td>424.545455</td>\n",
       "      <td>84.909091</td>\n",
       "      <td>105</td>\n",
       "    </tr>\n",
       "    <tr>\n",
       "      <th>10</th>\n",
       "      <td>2022-12-11</td>\n",
       "      <td>7</td>\n",
       "      <td>4</td>\n",
       "      <td>530.681818</td>\n",
       "      <td>132.670455</td>\n",
       "      <td>89</td>\n",
       "    </tr>\n",
       "    <tr>\n",
       "      <th>11</th>\n",
       "      <td>2022-12-12</td>\n",
       "      <td>1</td>\n",
       "      <td>4</td>\n",
       "      <td>806.636364</td>\n",
       "      <td>201.659091</td>\n",
       "      <td>191</td>\n",
       "    </tr>\n",
       "    <tr>\n",
       "      <th>12</th>\n",
       "      <td>2022-12-13</td>\n",
       "      <td>2</td>\n",
       "      <td>4</td>\n",
       "      <td>849.090909</td>\n",
       "      <td>212.272727</td>\n",
       "      <td>224</td>\n",
       "    </tr>\n",
       "    <tr>\n",
       "      <th>13</th>\n",
       "      <td>2022-12-14</td>\n",
       "      <td>3</td>\n",
       "      <td>4</td>\n",
       "      <td>742.954545</td>\n",
       "      <td>185.738636</td>\n",
       "      <td>179</td>\n",
       "    </tr>\n",
       "    <tr>\n",
       "      <th>14</th>\n",
       "      <td>2022-12-15</td>\n",
       "      <td>4</td>\n",
       "      <td>5</td>\n",
       "      <td>169.818182</td>\n",
       "      <td>33.963636</td>\n",
       "      <td>45</td>\n",
       "    </tr>\n",
       "    <tr>\n",
       "      <th>15</th>\n",
       "      <td>2022-12-16</td>\n",
       "      <td>5</td>\n",
       "      <td>5</td>\n",
       "      <td>212.272727</td>\n",
       "      <td>42.454545</td>\n",
       "      <td>27</td>\n",
       "    </tr>\n",
       "    <tr>\n",
       "      <th>16</th>\n",
       "      <td>2022-12-17</td>\n",
       "      <td>6</td>\n",
       "      <td>5</td>\n",
       "      <td>424.545455</td>\n",
       "      <td>84.909091</td>\n",
       "      <td>91</td>\n",
       "    </tr>\n",
       "    <tr>\n",
       "      <th>17</th>\n",
       "      <td>2022-12-18</td>\n",
       "      <td>7</td>\n",
       "      <td>4</td>\n",
       "      <td>530.681818</td>\n",
       "      <td>132.670455</td>\n",
       "      <td>132</td>\n",
       "    </tr>\n",
       "    <tr>\n",
       "      <th>18</th>\n",
       "      <td>2022-12-19</td>\n",
       "      <td>1</td>\n",
       "      <td>4</td>\n",
       "      <td>806.636364</td>\n",
       "      <td>201.659091</td>\n",
       "      <td>147</td>\n",
       "    </tr>\n",
       "    <tr>\n",
       "      <th>19</th>\n",
       "      <td>2022-12-20</td>\n",
       "      <td>2</td>\n",
       "      <td>4</td>\n",
       "      <td>849.090909</td>\n",
       "      <td>212.272727</td>\n",
       "      <td>203</td>\n",
       "    </tr>\n",
       "    <tr>\n",
       "      <th>20</th>\n",
       "      <td>2022-12-21</td>\n",
       "      <td>3</td>\n",
       "      <td>4</td>\n",
       "      <td>742.954545</td>\n",
       "      <td>185.738636</td>\n",
       "      <td>168</td>\n",
       "    </tr>\n",
       "    <tr>\n",
       "      <th>21</th>\n",
       "      <td>2022-12-22</td>\n",
       "      <td>4</td>\n",
       "      <td>5</td>\n",
       "      <td>169.818182</td>\n",
       "      <td>33.963636</td>\n",
       "      <td>34</td>\n",
       "    </tr>\n",
       "    <tr>\n",
       "      <th>22</th>\n",
       "      <td>2022-12-23</td>\n",
       "      <td>5</td>\n",
       "      <td>5</td>\n",
       "      <td>212.272727</td>\n",
       "      <td>42.454545</td>\n",
       "      <td>51</td>\n",
       "    </tr>\n",
       "    <tr>\n",
       "      <th>23</th>\n",
       "      <td>2022-12-24</td>\n",
       "      <td>6</td>\n",
       "      <td>5</td>\n",
       "      <td>424.545455</td>\n",
       "      <td>84.909091</td>\n",
       "      <td>85</td>\n",
       "    </tr>\n",
       "    <tr>\n",
       "      <th>24</th>\n",
       "      <td>2022-12-25</td>\n",
       "      <td>7</td>\n",
       "      <td>4</td>\n",
       "      <td>530.681818</td>\n",
       "      <td>132.670455</td>\n",
       "      <td>170</td>\n",
       "    </tr>\n",
       "    <tr>\n",
       "      <th>25</th>\n",
       "      <td>2022-12-26</td>\n",
       "      <td>1</td>\n",
       "      <td>4</td>\n",
       "      <td>806.636364</td>\n",
       "      <td>201.659091</td>\n",
       "      <td>227</td>\n",
       "    </tr>\n",
       "    <tr>\n",
       "      <th>26</th>\n",
       "      <td>2022-12-27</td>\n",
       "      <td>2</td>\n",
       "      <td>4</td>\n",
       "      <td>849.090909</td>\n",
       "      <td>212.272727</td>\n",
       "      <td>174</td>\n",
       "    </tr>\n",
       "    <tr>\n",
       "      <th>27</th>\n",
       "      <td>2022-12-28</td>\n",
       "      <td>3</td>\n",
       "      <td>4</td>\n",
       "      <td>742.954545</td>\n",
       "      <td>185.738636</td>\n",
       "      <td>189</td>\n",
       "    </tr>\n",
       "    <tr>\n",
       "      <th>28</th>\n",
       "      <td>2022-12-29</td>\n",
       "      <td>4</td>\n",
       "      <td>5</td>\n",
       "      <td>169.818182</td>\n",
       "      <td>33.963636</td>\n",
       "      <td>36</td>\n",
       "    </tr>\n",
       "    <tr>\n",
       "      <th>29</th>\n",
       "      <td>2022-12-30</td>\n",
       "      <td>5</td>\n",
       "      <td>5</td>\n",
       "      <td>212.272727</td>\n",
       "      <td>42.454545</td>\n",
       "      <td>61</td>\n",
       "    </tr>\n",
       "    <tr>\n",
       "      <th>30</th>\n",
       "      <td>2022-12-31</td>\n",
       "      <td>6</td>\n",
       "      <td>5</td>\n",
       "      <td>424.545455</td>\n",
       "      <td>84.909091</td>\n",
       "      <td>81</td>\n",
       "    </tr>\n",
       "  </tbody>\n",
       "</table>\n",
       "</div>"
      ],
      "text/plain": [
       "         date  week_day  num_week_day  count_total  count_orders  \\\n",
       "0  2022-12-01         4             5   169.818182     33.963636   \n",
       "1  2022-12-02         5             5   212.272727     42.454545   \n",
       "2  2022-12-03         6             5   424.545455     84.909091   \n",
       "3  2022-12-04         7             4   530.681818    132.670455   \n",
       "4  2022-12-05         1             4   806.636364    201.659091   \n",
       "5  2022-12-06         2             4   849.090909    212.272727   \n",
       "6  2022-12-07         3             4   742.954545    185.738636   \n",
       "7  2022-12-08         4             5   169.818182     33.963636   \n",
       "8  2022-12-09         5             5   212.272727     42.454545   \n",
       "9  2022-12-10         6             5   424.545455     84.909091   \n",
       "10 2022-12-11         7             4   530.681818    132.670455   \n",
       "11 2022-12-12         1             4   806.636364    201.659091   \n",
       "12 2022-12-13         2             4   849.090909    212.272727   \n",
       "13 2022-12-14         3             4   742.954545    185.738636   \n",
       "14 2022-12-15         4             5   169.818182     33.963636   \n",
       "15 2022-12-16         5             5   212.272727     42.454545   \n",
       "16 2022-12-17         6             5   424.545455     84.909091   \n",
       "17 2022-12-18         7             4   530.681818    132.670455   \n",
       "18 2022-12-19         1             4   806.636364    201.659091   \n",
       "19 2022-12-20         2             4   849.090909    212.272727   \n",
       "20 2022-12-21         3             4   742.954545    185.738636   \n",
       "21 2022-12-22         4             5   169.818182     33.963636   \n",
       "22 2022-12-23         5             5   212.272727     42.454545   \n",
       "23 2022-12-24         6             5   424.545455     84.909091   \n",
       "24 2022-12-25         7             4   530.681818    132.670455   \n",
       "25 2022-12-26         1             4   806.636364    201.659091   \n",
       "26 2022-12-27         2             4   849.090909    212.272727   \n",
       "27 2022-12-28         3             4   742.954545    185.738636   \n",
       "28 2022-12-29         4             5   169.818182     33.963636   \n",
       "29 2022-12-30         5             5   212.272727     42.454545   \n",
       "30 2022-12-31         6             5   424.545455     84.909091   \n",
       "\n",
       "    count_orders_this_day  \n",
       "0                      46  \n",
       "1                      41  \n",
       "2                      81  \n",
       "3                     118  \n",
       "4                     176  \n",
       "5                     113  \n",
       "6                     197  \n",
       "7                      28  \n",
       "8                      35  \n",
       "9                     105  \n",
       "10                     89  \n",
       "11                    191  \n",
       "12                    224  \n",
       "13                    179  \n",
       "14                     45  \n",
       "15                     27  \n",
       "16                     91  \n",
       "17                    132  \n",
       "18                    147  \n",
       "19                    203  \n",
       "20                    168  \n",
       "21                     34  \n",
       "22                     51  \n",
       "23                     85  \n",
       "24                    170  \n",
       "25                    227  \n",
       "26                    174  \n",
       "27                    189  \n",
       "28                     36  \n",
       "29                     61  \n",
       "30                     81  "
      ]
     },
     "execution_count": 25,
     "metadata": {},
     "output_type": "execute_result"
    }
   ],
   "source": [
    "df_this_month"
   ]
  },
  {
   "cell_type": "code",
   "execution_count": 32,
   "metadata": {},
   "outputs": [],
   "source": [
    "# Generate random hour and minute according to the ratio of 24 hours\n",
    "def generate_hour_minute():\n",
    "    hour = np.random.choice(range(24), p=np.array(random_24_hour_rato)/sum(random_24_hour_rato))\n",
    "    minute = np.random.choice(range(60))\n",
    "    return hour, minute"
   ]
  },
  {
   "cell_type": "markdown",
   "metadata": {},
   "source": [
    "# Generate id with random hour and minute"
   ]
  },
  {
   "cell_type": "code",
   "execution_count": 47,
   "metadata": {},
   "outputs": [],
   "source": [
    "# \n",
    "\n",
    "order_list = []\n",
    "\n",
    "idx = 0\n",
    "for idx, row in df_this_month.iterrows():\n",
    "\n",
    "    for i in range(row['count_orders_this_day']):\n",
    "        hour, minute = generate_hour_minute()\n",
    "        \n",
    "        order = {\n",
    "            \"id\": idx,\n",
    "            \"date\": row['date'].strftime('%Y-%m-%d'),\n",
    "            \"time\": f\"{hour:02d}:{minute:02d}\",\n",
    "            \"datetime\": row['date'].strftime('%Y-%m-%d') + f\" {hour:02d}:{minute:02d}\",\n",
    "            \n",
    "        }\n",
    "        \n",
    "        idx += 1\n",
    "        \n",
    "        order_list.append(order)"
   ]
  },
  {
   "cell_type": "code",
   "execution_count": 48,
   "metadata": {},
   "outputs": [],
   "source": [
    "# change to df\n",
    "df_order = pd.DataFrame(order_list)"
   ]
  },
  {
   "cell_type": "code",
   "execution_count": 49,
   "metadata": {},
   "outputs": [
    {
     "data": {
      "text/html": [
       "<div>\n",
       "<style scoped>\n",
       "    .dataframe tbody tr th:only-of-type {\n",
       "        vertical-align: middle;\n",
       "    }\n",
       "\n",
       "    .dataframe tbody tr th {\n",
       "        vertical-align: top;\n",
       "    }\n",
       "\n",
       "    .dataframe thead th {\n",
       "        text-align: right;\n",
       "    }\n",
       "</style>\n",
       "<table border=\"1\" class=\"dataframe\">\n",
       "  <thead>\n",
       "    <tr style=\"text-align: right;\">\n",
       "      <th></th>\n",
       "      <th>id</th>\n",
       "      <th>date</th>\n",
       "      <th>time</th>\n",
       "      <th>datetime</th>\n",
       "    </tr>\n",
       "  </thead>\n",
       "  <tbody>\n",
       "    <tr>\n",
       "      <th>0</th>\n",
       "      <td>0</td>\n",
       "      <td>2022-12-01</td>\n",
       "      <td>22:45</td>\n",
       "      <td>2022-12-01 22:45</td>\n",
       "    </tr>\n",
       "    <tr>\n",
       "      <th>1</th>\n",
       "      <td>1</td>\n",
       "      <td>2022-12-01</td>\n",
       "      <td>13:47</td>\n",
       "      <td>2022-12-01 13:47</td>\n",
       "    </tr>\n",
       "    <tr>\n",
       "      <th>2</th>\n",
       "      <td>2</td>\n",
       "      <td>2022-12-01</td>\n",
       "      <td>10:39</td>\n",
       "      <td>2022-12-01 10:39</td>\n",
       "    </tr>\n",
       "    <tr>\n",
       "      <th>3</th>\n",
       "      <td>3</td>\n",
       "      <td>2022-12-01</td>\n",
       "      <td>10:40</td>\n",
       "      <td>2022-12-01 10:40</td>\n",
       "    </tr>\n",
       "    <tr>\n",
       "      <th>4</th>\n",
       "      <td>4</td>\n",
       "      <td>2022-12-01</td>\n",
       "      <td>15:43</td>\n",
       "      <td>2022-12-01 15:43</td>\n",
       "    </tr>\n",
       "    <tr>\n",
       "      <th>...</th>\n",
       "      <td>...</td>\n",
       "      <td>...</td>\n",
       "      <td>...</td>\n",
       "      <td>...</td>\n",
       "    </tr>\n",
       "    <tr>\n",
       "      <th>3539</th>\n",
       "      <td>106</td>\n",
       "      <td>2022-12-31</td>\n",
       "      <td>09:44</td>\n",
       "      <td>2022-12-31 09:44</td>\n",
       "    </tr>\n",
       "    <tr>\n",
       "      <th>3540</th>\n",
       "      <td>107</td>\n",
       "      <td>2022-12-31</td>\n",
       "      <td>13:49</td>\n",
       "      <td>2022-12-31 13:49</td>\n",
       "    </tr>\n",
       "    <tr>\n",
       "      <th>3541</th>\n",
       "      <td>108</td>\n",
       "      <td>2022-12-31</td>\n",
       "      <td>14:35</td>\n",
       "      <td>2022-12-31 14:35</td>\n",
       "    </tr>\n",
       "    <tr>\n",
       "      <th>3542</th>\n",
       "      <td>109</td>\n",
       "      <td>2022-12-31</td>\n",
       "      <td>08:04</td>\n",
       "      <td>2022-12-31 08:04</td>\n",
       "    </tr>\n",
       "    <tr>\n",
       "      <th>3543</th>\n",
       "      <td>110</td>\n",
       "      <td>2022-12-31</td>\n",
       "      <td>16:23</td>\n",
       "      <td>2022-12-31 16:23</td>\n",
       "    </tr>\n",
       "  </tbody>\n",
       "</table>\n",
       "<p>3544 rows × 4 columns</p>\n",
       "</div>"
      ],
      "text/plain": [
       "       id        date   time          datetime\n",
       "0       0  2022-12-01  22:45  2022-12-01 22:45\n",
       "1       1  2022-12-01  13:47  2022-12-01 13:47\n",
       "2       2  2022-12-01  10:39  2022-12-01 10:39\n",
       "3       3  2022-12-01  10:40  2022-12-01 10:40\n",
       "4       4  2022-12-01  15:43  2022-12-01 15:43\n",
       "...   ...         ...    ...               ...\n",
       "3539  106  2022-12-31  09:44  2022-12-31 09:44\n",
       "3540  107  2022-12-31  13:49  2022-12-31 13:49\n",
       "3541  108  2022-12-31  14:35  2022-12-31 14:35\n",
       "3542  109  2022-12-31  08:04  2022-12-31 08:04\n",
       "3543  110  2022-12-31  16:23  2022-12-31 16:23\n",
       "\n",
       "[3544 rows x 4 columns]"
      ]
     },
     "execution_count": 49,
     "metadata": {},
     "output_type": "execute_result"
    }
   ],
   "source": [
    "df_order"
   ]
  },
  {
   "cell_type": "markdown",
   "metadata": {},
   "source": [
    "# 获取省份\n",
    "\n",
    "\n",
    "\n"
   ]
  },
  {
   "cell_type": "code",
   "execution_count": 51,
   "metadata": {},
   "outputs": [],
   "source": [
    "# Generate list of all provices in China\n",
    "provices = ['北京市','天津市','河北省','山西省','内蒙古自治区','辽宁省','吉林省','黑龙江省','上海市','江苏省','浙江省','安徽省','福建省','江西省','山东省','河南省','湖北省','湖南省','广东省','广西壮族自治区','海南省','重庆市','四川省','贵州省','云南省','西藏自治区','陕西省','甘肃省','青海省','宁夏回族自治区','新疆维吾尔自治区','台湾省','香港特别行政区','澳门特别行政区']"
   ]
  },
  {
   "cell_type": "code",
   "execution_count": 58,
   "metadata": {},
   "outputs": [],
   "source": [
    "# generate all GDP data of all provices\n",
    "\n",
    "# read order_propotion data\n",
    "\n",
    "df_order_propotion = pd.read_excel(os.path.join(BASE_DIR,'order_propotion.xlsx'))"
   ]
  },
  {
   "cell_type": "code",
   "execution_count": 59,
   "metadata": {},
   "outputs": [
    {
     "data": {
      "text/html": [
       "<div>\n",
       "<style scoped>\n",
       "    .dataframe tbody tr th:only-of-type {\n",
       "        vertical-align: middle;\n",
       "    }\n",
       "\n",
       "    .dataframe tbody tr th {\n",
       "        vertical-align: top;\n",
       "    }\n",
       "\n",
       "    .dataframe thead th {\n",
       "        text-align: right;\n",
       "    }\n",
       "</style>\n",
       "<table border=\"1\" class=\"dataframe\">\n",
       "  <thead>\n",
       "    <tr style=\"text-align: right;\">\n",
       "      <th></th>\n",
       "      <th>provice</th>\n",
       "      <th>propotion</th>\n",
       "    </tr>\n",
       "  </thead>\n",
       "  <tbody>\n",
       "    <tr>\n",
       "      <th>0</th>\n",
       "      <td>北京</td>\n",
       "      <td>0.10</td>\n",
       "    </tr>\n",
       "    <tr>\n",
       "      <th>1</th>\n",
       "      <td>上海</td>\n",
       "      <td>0.20</td>\n",
       "    </tr>\n",
       "    <tr>\n",
       "      <th>2</th>\n",
       "      <td>广州</td>\n",
       "      <td>0.11</td>\n",
       "    </tr>\n",
       "    <tr>\n",
       "      <th>3</th>\n",
       "      <td>深圳</td>\n",
       "      <td>0.10</td>\n",
       "    </tr>\n",
       "    <tr>\n",
       "      <th>4</th>\n",
       "      <td>江苏</td>\n",
       "      <td>0.30</td>\n",
       "    </tr>\n",
       "    <tr>\n",
       "      <th>5</th>\n",
       "      <td>浙江</td>\n",
       "      <td>0.25</td>\n",
       "    </tr>\n",
       "    <tr>\n",
       "      <th>6</th>\n",
       "      <td>山东</td>\n",
       "      <td>0.10</td>\n",
       "    </tr>\n",
       "  </tbody>\n",
       "</table>\n",
       "</div>"
      ],
      "text/plain": [
       "  provice  propotion\n",
       "0      北京       0.10\n",
       "1      上海       0.20\n",
       "2      广州       0.11\n",
       "3      深圳       0.10\n",
       "4      江苏       0.30\n",
       "5      浙江       0.25\n",
       "6      山东       0.10"
      ]
     },
     "execution_count": 59,
     "metadata": {},
     "output_type": "execute_result"
    }
   ],
   "source": [
    "df_order_propotion"
   ]
  },
  {
   "cell_type": "code",
   "execution_count": 67,
   "metadata": {},
   "outputs": [],
   "source": [
    "# generate random provice base on the propotion\n",
    "def generate_provice(x):\n",
    "    # make sum of propotion equal to 1\n",
    "    df_order_propotion['propotion'] = df_order_propotion['propotion'] / sum(df_order_propotion['propotion'])\n",
    "    \n",
    "    provice = np.random.choice(df_order_propotion['provice'], p=df_order_propotion['propotion'].values)\n",
    "    return provice"
   ]
  },
  {
   "cell_type": "code",
   "execution_count": 68,
   "metadata": {},
   "outputs": [],
   "source": [
    "df_order['provice'] = df_order['id'].apply(generate_provice)"
   ]
  },
  {
   "cell_type": "code",
   "execution_count": null,
   "metadata": {},
   "outputs": [],
   "source": [
    "# generate cily from provice\n"
   ]
  },
  {
   "cell_type": "code",
   "execution_count": 69,
   "metadata": {},
   "outputs": [
    {
     "data": {
      "text/html": [
       "<div>\n",
       "<style scoped>\n",
       "    .dataframe tbody tr th:only-of-type {\n",
       "        vertical-align: middle;\n",
       "    }\n",
       "\n",
       "    .dataframe tbody tr th {\n",
       "        vertical-align: top;\n",
       "    }\n",
       "\n",
       "    .dataframe thead th {\n",
       "        text-align: right;\n",
       "    }\n",
       "</style>\n",
       "<table border=\"1\" class=\"dataframe\">\n",
       "  <thead>\n",
       "    <tr style=\"text-align: right;\">\n",
       "      <th></th>\n",
       "      <th>id</th>\n",
       "      <th>date</th>\n",
       "      <th>time</th>\n",
       "      <th>datetime</th>\n",
       "      <th>provice</th>\n",
       "    </tr>\n",
       "  </thead>\n",
       "  <tbody>\n",
       "    <tr>\n",
       "      <th>0</th>\n",
       "      <td>0</td>\n",
       "      <td>2022-12-01</td>\n",
       "      <td>22:45</td>\n",
       "      <td>2022-12-01 22:45</td>\n",
       "      <td>北京</td>\n",
       "    </tr>\n",
       "    <tr>\n",
       "      <th>1</th>\n",
       "      <td>1</td>\n",
       "      <td>2022-12-01</td>\n",
       "      <td>13:47</td>\n",
       "      <td>2022-12-01 13:47</td>\n",
       "      <td>江苏</td>\n",
       "    </tr>\n",
       "    <tr>\n",
       "      <th>2</th>\n",
       "      <td>2</td>\n",
       "      <td>2022-12-01</td>\n",
       "      <td>10:39</td>\n",
       "      <td>2022-12-01 10:39</td>\n",
       "      <td>江苏</td>\n",
       "    </tr>\n",
       "    <tr>\n",
       "      <th>3</th>\n",
       "      <td>3</td>\n",
       "      <td>2022-12-01</td>\n",
       "      <td>10:40</td>\n",
       "      <td>2022-12-01 10:40</td>\n",
       "      <td>江苏</td>\n",
       "    </tr>\n",
       "    <tr>\n",
       "      <th>4</th>\n",
       "      <td>4</td>\n",
       "      <td>2022-12-01</td>\n",
       "      <td>15:43</td>\n",
       "      <td>2022-12-01 15:43</td>\n",
       "      <td>上海</td>\n",
       "    </tr>\n",
       "    <tr>\n",
       "      <th>...</th>\n",
       "      <td>...</td>\n",
       "      <td>...</td>\n",
       "      <td>...</td>\n",
       "      <td>...</td>\n",
       "      <td>...</td>\n",
       "    </tr>\n",
       "    <tr>\n",
       "      <th>3539</th>\n",
       "      <td>106</td>\n",
       "      <td>2022-12-31</td>\n",
       "      <td>09:44</td>\n",
       "      <td>2022-12-31 09:44</td>\n",
       "      <td>上海</td>\n",
       "    </tr>\n",
       "    <tr>\n",
       "      <th>3540</th>\n",
       "      <td>107</td>\n",
       "      <td>2022-12-31</td>\n",
       "      <td>13:49</td>\n",
       "      <td>2022-12-31 13:49</td>\n",
       "      <td>上海</td>\n",
       "    </tr>\n",
       "    <tr>\n",
       "      <th>3541</th>\n",
       "      <td>108</td>\n",
       "      <td>2022-12-31</td>\n",
       "      <td>14:35</td>\n",
       "      <td>2022-12-31 14:35</td>\n",
       "      <td>江苏</td>\n",
       "    </tr>\n",
       "    <tr>\n",
       "      <th>3542</th>\n",
       "      <td>109</td>\n",
       "      <td>2022-12-31</td>\n",
       "      <td>08:04</td>\n",
       "      <td>2022-12-31 08:04</td>\n",
       "      <td>浙江</td>\n",
       "    </tr>\n",
       "    <tr>\n",
       "      <th>3543</th>\n",
       "      <td>110</td>\n",
       "      <td>2022-12-31</td>\n",
       "      <td>16:23</td>\n",
       "      <td>2022-12-31 16:23</td>\n",
       "      <td>深圳</td>\n",
       "    </tr>\n",
       "  </tbody>\n",
       "</table>\n",
       "<p>3544 rows × 5 columns</p>\n",
       "</div>"
      ],
      "text/plain": [
       "       id        date   time          datetime provice\n",
       "0       0  2022-12-01  22:45  2022-12-01 22:45      北京\n",
       "1       1  2022-12-01  13:47  2022-12-01 13:47      江苏\n",
       "2       2  2022-12-01  10:39  2022-12-01 10:39      江苏\n",
       "3       3  2022-12-01  10:40  2022-12-01 10:40      江苏\n",
       "4       4  2022-12-01  15:43  2022-12-01 15:43      上海\n",
       "...   ...         ...    ...               ...     ...\n",
       "3539  106  2022-12-31  09:44  2022-12-31 09:44      上海\n",
       "3540  107  2022-12-31  13:49  2022-12-31 13:49      上海\n",
       "3541  108  2022-12-31  14:35  2022-12-31 14:35      江苏\n",
       "3542  109  2022-12-31  08:04  2022-12-31 08:04      浙江\n",
       "3543  110  2022-12-31  16:23  2022-12-31 16:23      深圳\n",
       "\n",
       "[3544 rows x 5 columns]"
      ]
     },
     "execution_count": 69,
     "metadata": {},
     "output_type": "execute_result"
    }
   ],
   "source": [
    "df_order"
   ]
  },
  {
   "cell_type": "code",
   "execution_count": 86,
   "metadata": {},
   "outputs": [],
   "source": [
    "# read city data\n",
    "\n",
    "df_city = pd.read_excel('/Users/zhitaogao/Library/CloudStorage/OneDrive-Personal/bbd-projects/mfg_operation_model/src/省市县区.xlsx')"
   ]
  },
  {
   "cell_type": "code",
   "execution_count": 91,
   "metadata": {},
   "outputs": [],
   "source": [
    "# remove \"省\" and \"市\" from provice\n",
    "df_city['provice'] = df_city['provice'].apply(lambda x: x.replace('省','').replace('市',''))"
   ]
  },
  {
   "cell_type": "code",
   "execution_count": 99,
   "metadata": {},
   "outputs": [
    {
     "data": {
      "text/plain": [
       "array(['北京', '天津', '河北', '山西', '内蒙古', '辽宁', '吉林', '黑龙江', '上海', '江苏', '浙江',\n",
       "       '安徽', '福建', '江西', '山东', '河南', '湖北', '湖南', '广东', '广西', '海南', '重庆',\n",
       "       '四川', '贵州', '云南', '西藏', '陕西', '甘肃', '青海', '宁夏', '新疆'], dtype=object)"
      ]
     },
     "execution_count": 99,
     "metadata": {},
     "output_type": "execute_result"
    }
   ],
   "source": [
    "df_city['provice'].unique()"
   ]
  },
  {
   "cell_type": "code",
   "execution_count": 92,
   "metadata": {},
   "outputs": [
    {
     "data": {
      "text/html": [
       "<div>\n",
       "<style scoped>\n",
       "    .dataframe tbody tr th:only-of-type {\n",
       "        vertical-align: middle;\n",
       "    }\n",
       "\n",
       "    .dataframe tbody tr th {\n",
       "        vertical-align: top;\n",
       "    }\n",
       "\n",
       "    .dataframe thead th {\n",
       "        text-align: right;\n",
       "    }\n",
       "</style>\n",
       "<table border=\"1\" class=\"dataframe\">\n",
       "  <thead>\n",
       "    <tr style=\"text-align: right;\">\n",
       "      <th></th>\n",
       "      <th>provice</th>\n",
       "      <th>city</th>\n",
       "      <th>县区</th>\n",
       "    </tr>\n",
       "  </thead>\n",
       "  <tbody>\n",
       "    <tr>\n",
       "      <th>0</th>\n",
       "      <td>北京</td>\n",
       "      <td>北京市</td>\n",
       "      <td>东城区</td>\n",
       "    </tr>\n",
       "    <tr>\n",
       "      <th>1</th>\n",
       "      <td>北京</td>\n",
       "      <td>北京市</td>\n",
       "      <td>西城区</td>\n",
       "    </tr>\n",
       "    <tr>\n",
       "      <th>2</th>\n",
       "      <td>北京</td>\n",
       "      <td>北京市</td>\n",
       "      <td>崇文区</td>\n",
       "    </tr>\n",
       "    <tr>\n",
       "      <th>3</th>\n",
       "      <td>北京</td>\n",
       "      <td>北京市</td>\n",
       "      <td>宣武区</td>\n",
       "    </tr>\n",
       "    <tr>\n",
       "      <th>4</th>\n",
       "      <td>北京</td>\n",
       "      <td>北京市</td>\n",
       "      <td>朝阳区</td>\n",
       "    </tr>\n",
       "    <tr>\n",
       "      <th>...</th>\n",
       "      <td>...</td>\n",
       "      <td>...</td>\n",
       "      <td>...</td>\n",
       "    </tr>\n",
       "    <tr>\n",
       "      <th>2861</th>\n",
       "      <td>新疆</td>\n",
       "      <td>阿勒泰地区</td>\n",
       "      <td>吉木乃县</td>\n",
       "    </tr>\n",
       "    <tr>\n",
       "      <th>2862</th>\n",
       "      <td>新疆</td>\n",
       "      <td>省直辖行政单位</td>\n",
       "      <td>石河子市</td>\n",
       "    </tr>\n",
       "    <tr>\n",
       "      <th>2863</th>\n",
       "      <td>新疆</td>\n",
       "      <td>省直辖行政单位</td>\n",
       "      <td>阿拉尔市</td>\n",
       "    </tr>\n",
       "    <tr>\n",
       "      <th>2864</th>\n",
       "      <td>新疆</td>\n",
       "      <td>省直辖行政单位</td>\n",
       "      <td>图木舒克市</td>\n",
       "    </tr>\n",
       "    <tr>\n",
       "      <th>2865</th>\n",
       "      <td>新疆</td>\n",
       "      <td>省直辖行政单位</td>\n",
       "      <td>五家渠市</td>\n",
       "    </tr>\n",
       "  </tbody>\n",
       "</table>\n",
       "<p>2866 rows × 3 columns</p>\n",
       "</div>"
      ],
      "text/plain": [
       "     provice     city     县区\n",
       "0         北京      北京市    东城区\n",
       "1         北京      北京市    西城区\n",
       "2         北京      北京市    崇文区\n",
       "3         北京      北京市    宣武区\n",
       "4         北京      北京市    朝阳区\n",
       "...      ...      ...    ...\n",
       "2861      新疆    阿勒泰地区   吉木乃县\n",
       "2862      新疆  省直辖行政单位   石河子市\n",
       "2863      新疆  省直辖行政单位   阿拉尔市\n",
       "2864      新疆  省直辖行政单位  图木舒克市\n",
       "2865      新疆  省直辖行政单位   五家渠市\n",
       "\n",
       "[2866 rows x 3 columns]"
      ]
     },
     "execution_count": 92,
     "metadata": {},
     "output_type": "execute_result"
    }
   ],
   "source": [
    "df_city"
   ]
  },
  {
   "cell_type": "code",
   "execution_count": 100,
   "metadata": {},
   "outputs": [],
   "source": [
    "# Generate random city of each provice\n",
    "def generate_city(x,df_city = df_city):\n",
    "    try:\n",
    "        df_this_provice = df_city[df_city['provice'] == x]\n",
    "        city = np.random.choice(df_this_provice['city'])\n",
    "    except:\n",
    "        city = x\n",
    "    return city"
   ]
  },
  {
   "cell_type": "code",
   "execution_count": 101,
   "metadata": {},
   "outputs": [],
   "source": [
    "df_order['city'] = df_order['provice'].apply(generate_city)"
   ]
  },
  {
   "cell_type": "code",
   "execution_count": 102,
   "metadata": {},
   "outputs": [
    {
     "data": {
      "text/html": [
       "<div>\n",
       "<style scoped>\n",
       "    .dataframe tbody tr th:only-of-type {\n",
       "        vertical-align: middle;\n",
       "    }\n",
       "\n",
       "    .dataframe tbody tr th {\n",
       "        vertical-align: top;\n",
       "    }\n",
       "\n",
       "    .dataframe thead th {\n",
       "        text-align: right;\n",
       "    }\n",
       "</style>\n",
       "<table border=\"1\" class=\"dataframe\">\n",
       "  <thead>\n",
       "    <tr style=\"text-align: right;\">\n",
       "      <th></th>\n",
       "      <th>id</th>\n",
       "      <th>date</th>\n",
       "      <th>time</th>\n",
       "      <th>datetime</th>\n",
       "      <th>provice</th>\n",
       "      <th>city</th>\n",
       "    </tr>\n",
       "  </thead>\n",
       "  <tbody>\n",
       "    <tr>\n",
       "      <th>0</th>\n",
       "      <td>0</td>\n",
       "      <td>2022-12-01</td>\n",
       "      <td>22:45</td>\n",
       "      <td>2022-12-01 22:45</td>\n",
       "      <td>北京</td>\n",
       "      <td>北京市</td>\n",
       "    </tr>\n",
       "    <tr>\n",
       "      <th>1</th>\n",
       "      <td>1</td>\n",
       "      <td>2022-12-01</td>\n",
       "      <td>13:47</td>\n",
       "      <td>2022-12-01 13:47</td>\n",
       "      <td>江苏</td>\n",
       "      <td>苏州市</td>\n",
       "    </tr>\n",
       "    <tr>\n",
       "      <th>2</th>\n",
       "      <td>2</td>\n",
       "      <td>2022-12-01</td>\n",
       "      <td>10:39</td>\n",
       "      <td>2022-12-01 10:39</td>\n",
       "      <td>江苏</td>\n",
       "      <td>扬州市</td>\n",
       "    </tr>\n",
       "    <tr>\n",
       "      <th>3</th>\n",
       "      <td>3</td>\n",
       "      <td>2022-12-01</td>\n",
       "      <td>10:40</td>\n",
       "      <td>2022-12-01 10:40</td>\n",
       "      <td>江苏</td>\n",
       "      <td>淮安市(原淮阴市）</td>\n",
       "    </tr>\n",
       "    <tr>\n",
       "      <th>4</th>\n",
       "      <td>4</td>\n",
       "      <td>2022-12-01</td>\n",
       "      <td>15:43</td>\n",
       "      <td>2022-12-01 15:43</td>\n",
       "      <td>上海</td>\n",
       "      <td>上海市</td>\n",
       "    </tr>\n",
       "    <tr>\n",
       "      <th>...</th>\n",
       "      <td>...</td>\n",
       "      <td>...</td>\n",
       "      <td>...</td>\n",
       "      <td>...</td>\n",
       "      <td>...</td>\n",
       "      <td>...</td>\n",
       "    </tr>\n",
       "    <tr>\n",
       "      <th>3539</th>\n",
       "      <td>106</td>\n",
       "      <td>2022-12-31</td>\n",
       "      <td>09:44</td>\n",
       "      <td>2022-12-31 09:44</td>\n",
       "      <td>上海</td>\n",
       "      <td>上海市</td>\n",
       "    </tr>\n",
       "    <tr>\n",
       "      <th>3540</th>\n",
       "      <td>107</td>\n",
       "      <td>2022-12-31</td>\n",
       "      <td>13:49</td>\n",
       "      <td>2022-12-31 13:49</td>\n",
       "      <td>上海</td>\n",
       "      <td>上海市</td>\n",
       "    </tr>\n",
       "    <tr>\n",
       "      <th>3541</th>\n",
       "      <td>108</td>\n",
       "      <td>2022-12-31</td>\n",
       "      <td>14:35</td>\n",
       "      <td>2022-12-31 14:35</td>\n",
       "      <td>江苏</td>\n",
       "      <td>泰州市</td>\n",
       "    </tr>\n",
       "    <tr>\n",
       "      <th>3542</th>\n",
       "      <td>109</td>\n",
       "      <td>2022-12-31</td>\n",
       "      <td>08:04</td>\n",
       "      <td>2022-12-31 08:04</td>\n",
       "      <td>浙江</td>\n",
       "      <td>温州市</td>\n",
       "    </tr>\n",
       "    <tr>\n",
       "      <th>3543</th>\n",
       "      <td>110</td>\n",
       "      <td>2022-12-31</td>\n",
       "      <td>16:23</td>\n",
       "      <td>2022-12-31 16:23</td>\n",
       "      <td>深圳</td>\n",
       "      <td>深圳</td>\n",
       "    </tr>\n",
       "  </tbody>\n",
       "</table>\n",
       "<p>3544 rows × 6 columns</p>\n",
       "</div>"
      ],
      "text/plain": [
       "       id        date   time          datetime provice       city\n",
       "0       0  2022-12-01  22:45  2022-12-01 22:45      北京        北京市\n",
       "1       1  2022-12-01  13:47  2022-12-01 13:47      江苏        苏州市\n",
       "2       2  2022-12-01  10:39  2022-12-01 10:39      江苏        扬州市\n",
       "3       3  2022-12-01  10:40  2022-12-01 10:40      江苏  淮安市(原淮阴市）\n",
       "4       4  2022-12-01  15:43  2022-12-01 15:43      上海        上海市\n",
       "...   ...         ...    ...               ...     ...        ...\n",
       "3539  106  2022-12-31  09:44  2022-12-31 09:44      上海        上海市\n",
       "3540  107  2022-12-31  13:49  2022-12-31 13:49      上海        上海市\n",
       "3541  108  2022-12-31  14:35  2022-12-31 14:35      江苏        泰州市\n",
       "3542  109  2022-12-31  08:04  2022-12-31 08:04      浙江        温州市\n",
       "3543  110  2022-12-31  16:23  2022-12-31 16:23      深圳         深圳\n",
       "\n",
       "[3544 rows x 6 columns]"
      ]
     },
     "execution_count": 102,
     "metadata": {},
     "output_type": "execute_result"
    }
   ],
   "source": [
    "df_order"
   ]
  },
  {
   "cell_type": "code",
   "execution_count": 103,
   "metadata": {},
   "outputs": [],
   "source": [
    "# save as csv\n",
    "df_order.to_csv(os.path.join(GE_DIR,'order_detail.csv'), index=False)"
   ]
  },
  {
   "cell_type": "code",
   "execution_count": null,
   "metadata": {},
   "outputs": [],
   "source": []
  }
 ],
 "metadata": {
  "kernelspec": {
   "display_name": "mfg",
   "language": "python",
   "name": "python3"
  },
  "language_info": {
   "codemirror_mode": {
    "name": "ipython",
    "version": 3
   },
   "file_extension": ".py",
   "mimetype": "text/x-python",
   "name": "python",
   "nbconvert_exporter": "python",
   "pygments_lexer": "ipython3",
   "version": "3.11.0"
  },
  "orig_nbformat": 4,
  "vscode": {
   "interpreter": {
    "hash": "11ece21f9d148e8622ffd10de10c91d1c2aa93fd07d9db7502e7743a8919cb02"
   }
  }
 },
 "nbformat": 4,
 "nbformat_minor": 2
}
