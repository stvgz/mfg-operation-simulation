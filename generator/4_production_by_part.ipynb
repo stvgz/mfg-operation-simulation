{
 "cells": [
  {
   "cell_type": "code",
   "execution_count": null,
   "metadata": {},
   "outputs": [],
   "source": [
    "# 生成所有的产品序列号\n",
    "\n",
    "生产时间\n",
    "来源产线\n",
    "过程设备\n",
    "最终的质检结果\n",
    "等等"
   ]
  },
  {
   "cell_type": "code",
   "execution_count": null,
   "metadata": {},
   "outputs": [],
   "source": [
    "# "
   ]
  }
 ],
 "metadata": {
  "kernelspec": {
   "display_name": "mfg",
   "language": "python",
   "name": "python3"
  },
  "language_info": {
   "name": "python",
   "version": "3.11.0 (main, Jan 16 2023, 08:17:56) [Clang 14.0.6 ]"
  },
  "orig_nbformat": 4,
  "vscode": {
   "interpreter": {
    "hash": "11ece21f9d148e8622ffd10de10c91d1c2aa93fd07d9db7502e7743a8919cb02"
   }
  }
 },
 "nbformat": 4,
 "nbformat_minor": 2
}
